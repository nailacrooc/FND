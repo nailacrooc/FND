{
 "cells": [
  {
   "cell_type": "code",
   "execution_count": null,
   "metadata": {},
   "outputs": [
    {
     "name": "stdout",
     "output_type": "stream",
     "text": [
      "Requirement already satisfied: pandas in c:\\users\\dinothelo p. quiroga\\onedrive\\desktop\\fakenews\\.venv\\lib\\site-packages (2.2.3)\n",
      "Requirement already satisfied: numpy>=1.26.0 in c:\\users\\dinothelo p. quiroga\\onedrive\\desktop\\fakenews\\.venv\\lib\\site-packages (from pandas) (2.2.4)\n",
      "Requirement already satisfied: python-dateutil>=2.8.2 in c:\\users\\dinothelo p. quiroga\\onedrive\\desktop\\fakenews\\.venv\\lib\\site-packages (from pandas) (2.9.0.post0)\n",
      "Requirement already satisfied: pytz>=2020.1 in c:\\users\\dinothelo p. quiroga\\onedrive\\desktop\\fakenews\\.venv\\lib\\site-packages (from pandas) (2025.2)\n",
      "Requirement already satisfied: tzdata>=2022.7 in c:\\users\\dinothelo p. quiroga\\onedrive\\desktop\\fakenews\\.venv\\lib\\site-packages (from pandas) (2025.2)\n",
      "Requirement already satisfied: six>=1.5 in c:\\users\\dinothelo p. quiroga\\onedrive\\desktop\\fakenews\\.venv\\lib\\site-packages (from python-dateutil>=2.8.2->pandas) (1.17.0)\n",
      "Note: you may need to restart the kernel to use updated packages.\n"
     ]
    },
    {
     "name": "stderr",
     "output_type": "stream",
     "text": [
      "\n",
      "[notice] A new release of pip is available: 25.0.1 -> 25.1\n",
      "[notice] To update, run: python.exe -m pip install --upgrade pip\n"
     ]
    },
    {
     "name": "stdout",
     "output_type": "stream",
     "text": [
      "Requirement already satisfied: numpy in c:\\users\\dinothelo p. quiroga\\onedrive\\desktop\\fakenews\\.venv\\lib\\site-packages (2.2.4)\n",
      "Note: you may need to restart the kernel to use updated packages.\n"
     ]
    },
    {
     "name": "stderr",
     "output_type": "stream",
     "text": [
      "\n",
      "[notice] A new release of pip is available: 25.0.1 -> 25.1\n",
      "[notice] To update, run: python.exe -m pip install --upgrade pip\n"
     ]
    },
    {
     "name": "stdout",
     "output_type": "stream",
     "text": [
      "Requirement already satisfied: scikit-learn in c:\\users\\dinothelo p. quiroga\\onedrive\\desktop\\fakenews\\.venv\\lib\\site-packages (1.6.1)\n",
      "Requirement already satisfied: numpy>=1.19.5 in c:\\users\\dinothelo p. quiroga\\onedrive\\desktop\\fakenews\\.venv\\lib\\site-packages (from scikit-learn) (2.2.4)\n",
      "Requirement already satisfied: scipy>=1.6.0 in c:\\users\\dinothelo p. quiroga\\onedrive\\desktop\\fakenews\\.venv\\lib\\site-packages (from scikit-learn) (1.15.2)\n",
      "Requirement already satisfied: joblib>=1.2.0 in c:\\users\\dinothelo p. quiroga\\onedrive\\desktop\\fakenews\\.venv\\lib\\site-packages (from scikit-learn) (1.4.2)\n",
      "Requirement already satisfied: threadpoolctl>=3.1.0 in c:\\users\\dinothelo p. quiroga\\onedrive\\desktop\\fakenews\\.venv\\lib\\site-packages (from scikit-learn) (3.6.0)\n",
      "Note: you may need to restart the kernel to use updated packages.\n"
     ]
    },
    {
     "name": "stderr",
     "output_type": "stream",
     "text": [
      "\n",
      "[notice] A new release of pip is available: 25.0.1 -> 25.1\n",
      "[notice] To update, run: python.exe -m pip install --upgrade pip\n"
     ]
    },
    {
     "name": "stdout",
     "output_type": "stream",
     "text": [
      "Requirement already satisfied: nltk in c:\\users\\dinothelo p. quiroga\\onedrive\\desktop\\fakenews\\.venv\\lib\\site-packages (3.9.1)\n",
      "Requirement already satisfied: click in c:\\users\\dinothelo p. quiroga\\onedrive\\desktop\\fakenews\\.venv\\lib\\site-packages (from nltk) (8.1.8)\n",
      "Requirement already satisfied: joblib in c:\\users\\dinothelo p. quiroga\\onedrive\\desktop\\fakenews\\.venv\\lib\\site-packages (from nltk) (1.4.2)\n",
      "Requirement already satisfied: regex>=2021.8.3 in c:\\users\\dinothelo p. quiroga\\onedrive\\desktop\\fakenews\\.venv\\lib\\site-packages (from nltk) (2024.11.6)\n",
      "Requirement already satisfied: tqdm in c:\\users\\dinothelo p. quiroga\\onedrive\\desktop\\fakenews\\.venv\\lib\\site-packages (from nltk) (4.67.1)\n",
      "Requirement already satisfied: colorama in c:\\users\\dinothelo p. quiroga\\onedrive\\desktop\\fakenews\\.venv\\lib\\site-packages (from click->nltk) (0.4.6)\n",
      "Note: you may need to restart the kernel to use updated packages.\n"
     ]
    },
    {
     "name": "stderr",
     "output_type": "stream",
     "text": [
      "\n",
      "[notice] A new release of pip is available: 25.0.1 -> 25.1\n",
      "[notice] To update, run: python.exe -m pip install --upgrade pip\n"
     ]
    },
    {
     "name": "stdout",
     "output_type": "stream",
     "text": [
      "Requirement already satisfied: vaderSentiment in c:\\users\\dinothelo p. quiroga\\onedrive\\desktop\\fakenews\\.venv\\lib\\site-packages (3.3.2)\n",
      "Requirement already satisfied: requests in c:\\users\\dinothelo p. quiroga\\onedrive\\desktop\\fakenews\\.venv\\lib\\site-packages (from vaderSentiment) (2.32.3)\n",
      "Requirement already satisfied: charset-normalizer<4,>=2 in c:\\users\\dinothelo p. quiroga\\onedrive\\desktop\\fakenews\\.venv\\lib\\site-packages (from requests->vaderSentiment) (3.4.1)\n",
      "Requirement already satisfied: idna<4,>=2.5 in c:\\users\\dinothelo p. quiroga\\onedrive\\desktop\\fakenews\\.venv\\lib\\site-packages (from requests->vaderSentiment) (3.10)\n",
      "Requirement already satisfied: urllib3<3,>=1.21.1 in c:\\users\\dinothelo p. quiroga\\onedrive\\desktop\\fakenews\\.venv\\lib\\site-packages (from requests->vaderSentiment) (2.3.0)\n",
      "Requirement already satisfied: certifi>=2017.4.17 in c:\\users\\dinothelo p. quiroga\\onedrive\\desktop\\fakenews\\.venv\\lib\\site-packages (from requests->vaderSentiment) (2025.1.31)\n",
      "Note: you may need to restart the kernel to use updated packages.\n"
     ]
    },
    {
     "name": "stderr",
     "output_type": "stream",
     "text": [
      "\n",
      "[notice] A new release of pip is available: 25.0.1 -> 25.1\n",
      "[notice] To update, run: python.exe -m pip install --upgrade pip\n"
     ]
    },
    {
     "name": "stdout",
     "output_type": "stream",
     "text": [
      "Requirement already satisfied: matplotlib in c:\\users\\dinothelo p. quiroga\\onedrive\\desktop\\fakenews\\.venv\\lib\\site-packages (3.10.1)\n",
      "Requirement already satisfied: contourpy>=1.0.1 in c:\\users\\dinothelo p. quiroga\\onedrive\\desktop\\fakenews\\.venv\\lib\\site-packages (from matplotlib) (1.3.1)\n",
      "Requirement already satisfied: cycler>=0.10 in c:\\users\\dinothelo p. quiroga\\onedrive\\desktop\\fakenews\\.venv\\lib\\site-packages (from matplotlib) (0.12.1)\n",
      "Requirement already satisfied: fonttools>=4.22.0 in c:\\users\\dinothelo p. quiroga\\onedrive\\desktop\\fakenews\\.venv\\lib\\site-packages (from matplotlib) (4.57.0)\n",
      "Requirement already satisfied: kiwisolver>=1.3.1 in c:\\users\\dinothelo p. quiroga\\onedrive\\desktop\\fakenews\\.venv\\lib\\site-packages (from matplotlib) (1.4.8)\n",
      "Requirement already satisfied: numpy>=1.23 in c:\\users\\dinothelo p. quiroga\\onedrive\\desktop\\fakenews\\.venv\\lib\\site-packages (from matplotlib) (2.2.4)\n",
      "Requirement already satisfied: packaging>=20.0 in c:\\users\\dinothelo p. quiroga\\onedrive\\desktop\\fakenews\\.venv\\lib\\site-packages (from matplotlib) (24.2)\n",
      "Requirement already satisfied: pillow>=8 in c:\\users\\dinothelo p. quiroga\\onedrive\\desktop\\fakenews\\.venv\\lib\\site-packages (from matplotlib) (11.1.0)\n",
      "Requirement already satisfied: pyparsing>=2.3.1 in c:\\users\\dinothelo p. quiroga\\onedrive\\desktop\\fakenews\\.venv\\lib\\site-packages (from matplotlib) (3.2.3)\n",
      "Requirement already satisfied: python-dateutil>=2.7 in c:\\users\\dinothelo p. quiroga\\onedrive\\desktop\\fakenews\\.venv\\lib\\site-packages (from matplotlib) (2.9.0.post0)\n",
      "Requirement already satisfied: six>=1.5 in c:\\users\\dinothelo p. quiroga\\onedrive\\desktop\\fakenews\\.venv\\lib\\site-packages (from python-dateutil>=2.7->matplotlib) (1.17.0)\n",
      "Note: you may need to restart the kernel to use updated packages.\n"
     ]
    },
    {
     "name": "stderr",
     "output_type": "stream",
     "text": [
      "\n",
      "[notice] A new release of pip is available: 25.0.1 -> 25.1\n",
      "[notice] To update, run: python.exe -m pip install --upgrade pip\n"
     ]
    },
    {
     "name": "stdout",
     "output_type": "stream",
     "text": [
      "Requirement already satisfied: seaborn in c:\\users\\dinothelo p. quiroga\\onedrive\\desktop\\fakenews\\.venv\\lib\\site-packages (0.13.2)\n",
      "Requirement already satisfied: numpy!=1.24.0,>=1.20 in c:\\users\\dinothelo p. quiroga\\onedrive\\desktop\\fakenews\\.venv\\lib\\site-packages (from seaborn) (2.2.4)\n",
      "Requirement already satisfied: pandas>=1.2 in c:\\users\\dinothelo p. quiroga\\onedrive\\desktop\\fakenews\\.venv\\lib\\site-packages (from seaborn) (2.2.3)\n",
      "Requirement already satisfied: matplotlib!=3.6.1,>=3.4 in c:\\users\\dinothelo p. quiroga\\onedrive\\desktop\\fakenews\\.venv\\lib\\site-packages (from seaborn) (3.10.1)\n",
      "Requirement already satisfied: contourpy>=1.0.1 in c:\\users\\dinothelo p. quiroga\\onedrive\\desktop\\fakenews\\.venv\\lib\\site-packages (from matplotlib!=3.6.1,>=3.4->seaborn) (1.3.1)\n",
      "Requirement already satisfied: cycler>=0.10 in c:\\users\\dinothelo p. quiroga\\onedrive\\desktop\\fakenews\\.venv\\lib\\site-packages (from matplotlib!=3.6.1,>=3.4->seaborn) (0.12.1)\n",
      "Requirement already satisfied: fonttools>=4.22.0 in c:\\users\\dinothelo p. quiroga\\onedrive\\desktop\\fakenews\\.venv\\lib\\site-packages (from matplotlib!=3.6.1,>=3.4->seaborn) (4.57.0)\n",
      "Requirement already satisfied: kiwisolver>=1.3.1 in c:\\users\\dinothelo p. quiroga\\onedrive\\desktop\\fakenews\\.venv\\lib\\site-packages (from matplotlib!=3.6.1,>=3.4->seaborn) (1.4.8)\n",
      "Requirement already satisfied: packaging>=20.0 in c:\\users\\dinothelo p. quiroga\\onedrive\\desktop\\fakenews\\.venv\\lib\\site-packages (from matplotlib!=3.6.1,>=3.4->seaborn) (24.2)\n",
      "Requirement already satisfied: pillow>=8 in c:\\users\\dinothelo p. quiroga\\onedrive\\desktop\\fakenews\\.venv\\lib\\site-packages (from matplotlib!=3.6.1,>=3.4->seaborn) (11.1.0)\n",
      "Requirement already satisfied: pyparsing>=2.3.1 in c:\\users\\dinothelo p. quiroga\\onedrive\\desktop\\fakenews\\.venv\\lib\\site-packages (from matplotlib!=3.6.1,>=3.4->seaborn) (3.2.3)\n",
      "Requirement already satisfied: python-dateutil>=2.7 in c:\\users\\dinothelo p. quiroga\\onedrive\\desktop\\fakenews\\.venv\\lib\\site-packages (from matplotlib!=3.6.1,>=3.4->seaborn) (2.9.0.post0)\n",
      "Requirement already satisfied: pytz>=2020.1 in c:\\users\\dinothelo p. quiroga\\onedrive\\desktop\\fakenews\\.venv\\lib\\site-packages (from pandas>=1.2->seaborn) (2025.2)\n",
      "Requirement already satisfied: tzdata>=2022.7 in c:\\users\\dinothelo p. quiroga\\onedrive\\desktop\\fakenews\\.venv\\lib\\site-packages (from pandas>=1.2->seaborn) (2025.2)\n",
      "Requirement already satisfied: six>=1.5 in c:\\users\\dinothelo p. quiroga\\onedrive\\desktop\\fakenews\\.venv\\lib\\site-packages (from python-dateutil>=2.7->matplotlib!=3.6.1,>=3.4->seaborn) (1.17.0)\n",
      "Note: you may need to restart the kernel to use updated packages.\n"
     ]
    },
    {
     "name": "stderr",
     "output_type": "stream",
     "text": [
      "\n",
      "[notice] A new release of pip is available: 25.0.1 -> 25.1\n",
      "[notice] To update, run: python.exe -m pip install --upgrade pip\n"
     ]
    },
    {
     "name": "stdout",
     "output_type": "stream",
     "text": [
      "Requirement already satisfied: pipeline in c:\\users\\dinothelo p. quiroga\\onedrive\\desktop\\fakenews\\.venv\\lib\\site-packages (0.1.0)\n",
      "Note: you may need to restart the kernel to use updated packages.\n"
     ]
    },
    {
     "name": "stderr",
     "output_type": "stream",
     "text": [
      "\n",
      "[notice] A new release of pip is available: 25.0.1 -> 25.1\n",
      "[notice] To update, run: python.exe -m pip install --upgrade pip\n"
     ]
    }
   ],
   "source": [
    "%pip install pandas\n",
    "%pip install numpy\n",
    "%pip install scikit-learn\n",
    "%pip install nltk\n",
    "%pip install vaderSentiment\n",
    "%pip install matplotlib\n",
    "%pip install seaborn   \n",
    "%pip install pipeline"
   ]
  },
  {
   "cell_type": "markdown",
   "metadata": {},
   "source": [
    "Jamen Datasets(CleanerThesisPhilFakeNews (2)) VADER + LDA"
   ]
  },
  {
   "cell_type": "code",
   "execution_count": null,
   "metadata": {},
   "outputs": [
    {
     "name": "stderr",
     "output_type": "stream",
     "text": [
      "[nltk_data] Downloading package stopwords to C:\\Users\\Dinothelo P.\n",
      "[nltk_data]     Quiroga/nltk_data...\n",
      "[nltk_data]   Package stopwords is already up-to-date!\n",
      "[nltk_data] Downloading package punkt to C:\\Users\\Dinothelo P.\n",
      "[nltk_data]     Quiroga/nltk_data...\n",
      "[nltk_data]   Package punkt is already up-to-date!\n",
      "[nltk_data] Downloading package wordnet to C:\\Users\\Dinothelo P.\n",
      "[nltk_data]     Quiroga/nltk_data...\n",
      "[nltk_data]   Package wordnet is already up-to-date!\n",
      "[nltk_data] Downloading package vader_lexicon to C:\\Users\\Dinothelo P.\n",
      "[nltk_data]     Quiroga/nltk_data...\n",
      "[nltk_data]   Package vader_lexicon is already up-to-date!\n"
     ]
    },
    {
     "name": "stdout",
     "output_type": "stream",
     "text": [
      "\n",
      "Accuracy: 0.9528\n",
      "Classification Report:\n",
      "               precision    recall  f1-score   support\n",
      "\n",
      "Not Credible       0.95      0.95      0.95      1022\n",
      "    Credible       0.95      0.95      0.95      1010\n",
      "\n",
      "    accuracy                           0.95      2032\n",
      "   macro avg       0.95      0.95      0.95      2032\n",
      "weighted avg       0.95      0.95      0.95      2032\n",
      "\n"
     ]
    }
   ],
   "source": [
    "import pandas as pd\n",
    "import numpy as np\n",
    "from sklearn.model_selection import StratifiedKFold\n",
    "from sklearn.feature_extraction.text import TfidfVectorizer\n",
    "from sklearn.discriminant_analysis import LinearDiscriminantAnalysis\n",
    "from sklearn.svm import SVC\n",
    "from sklearn.metrics import classification_report, accuracy_score\n",
    "from vaderSentiment.vaderSentiment import SentimentIntensityAnalyzer\n",
    "from nltk.corpus import stopwords\n",
    "from nltk.tokenize import word_tokenize\n",
    "from nltk.stem import WordNetLemmatizer\n",
    "import re\n",
    "import nltk\n",
    "import string\n",
    "from scipy.sparse import hstack\n",
    "\n",
    "# Download NLTK resources\n",
    "nltk.download('stopwords')\n",
    "nltk.download('punkt')\n",
    "nltk.download('wordnet')\n",
    "nltk.download('vader_lexicon')\n",
    "\n",
    "# Load dataset\n",
    "df = pd.read_csv(r\"C:\\Users\\Dinothelo P. Quiroga\\OneDrive\\Desktop\\fakeNews\\datasets\\combined\\ENTERTAINMENT.csv\",\n",
    "                 encoding=\"utf-8\", encoding_errors=\"replace\", on_bad_lines=\"skip\")\n",
    "\n",
    "# Normalize and clean label column\n",
    "if 'Label' in df.columns and df['Label'].str.lower().isin(['not credible', 'credible']).any():\n",
    "    df['Label'] = df['Label'].str.title().replace({'Not Credible': 'Not Credible', 'Credible': 'Credible'})\n",
    "else:\n",
    "    raise ValueError(\"Label column missing or does not contain 'Not Credible'/'Credible' values.\")\n",
    "\n",
    "df = df.dropna(subset=['Label'])\n",
    "df['combined_text'] = df['Headline'].fillna('') + \" \" + df['Content'].fillna('')\n",
    "\n",
    "# Preprocessing function\n",
    "def preprocess_text(text):\n",
    "    if pd.isnull(text):\n",
    "        return \"\"\n",
    "    text = text.lower()\n",
    "    text = re.sub(r'\\d+', '', text)\n",
    "    text = text.translate(str.maketrans('', '', string.punctuation))\n",
    "    tokens = word_tokenize(text)\n",
    "    tokens = [word for word in tokens if word not in stopwords.words('english')]\n",
    "    lemmatizer = WordNetLemmatizer()\n",
    "    tokens = [lemmatizer.lemmatize(word) for word in tokens]\n",
    "    return \" \".join(tokens)\n",
    "\n",
    "# Cross-validation setup\n",
    "skf = StratifiedKFold(n_splits=5, shuffle=True, random_state=42)\n",
    "analyzer = SentimentIntensityAnalyzer()\n",
    "\n",
    "accuracies = []\n",
    "\n",
    "for fold, (train_idx, test_idx) in enumerate(skf.split(df['combined_text'], df['Label']), 1):\n",
    "    print(f\"\\n===== Fold {fold} =====\")\n",
    "\n",
    "    # Split\n",
    "    X_train_raw = df.iloc[train_idx]['combined_text']\n",
    "    X_test_raw = df.iloc[test_idx]['combined_text']\n",
    "    y_train = df.iloc[train_idx]['Label']\n",
    "    y_test = df.iloc[test_idx]['Label']\n",
    "\n",
    "    # Preprocess\n",
    "    X_train_clean = X_train_raw.apply(preprocess_text)\n",
    "    X_test_clean = X_test_raw.apply(preprocess_text)\n",
    "\n",
    "    # TF-IDF\n",
    "    tfidf_vectorizer = TfidfVectorizer(max_features=5000)\n",
    "    X_train_tfidf = tfidf_vectorizer.fit_transform(X_train_clean)\n",
    "    X_test_tfidf = tfidf_vectorizer.transform(X_test_clean)\n",
    "\n",
    "    # VADER Sentiment\n",
    "    X_train_sentiment = np.array(X_train_clean.apply(lambda x: analyzer.polarity_scores(x)['compound'])).reshape(-1, 1)\n",
    "    X_test_sentiment = np.array(X_test_clean.apply(lambda x: analyzer.polarity_scores(x)['compound'])).reshape(-1, 1)\n",
    "\n",
    "    # Combine TF-IDF + VADER\n",
    "    X_train_features = hstack([X_train_tfidf, X_train_sentiment])\n",
    "    X_test_features = hstack([X_test_tfidf, X_test_sentiment])\n",
    "\n",
    "    # LDA (convert to dense)\n",
    "    lda = LinearDiscriminantAnalysis(n_components=1)\n",
    "    X_train_lda = lda.fit_transform(X_train_features.toarray(), y_train)\n",
    "    X_test_lda = lda.transform(X_test_features.toarray())\n",
    "\n",
    "    # Train\n",
    "    svm = SVC(kernel='linear', C=1.0, random_state=42)\n",
    "    svm.fit(X_train_lda, y_train)\n",
    "\n",
    "    # Evaluate\n",
    "    y_pred = svm.predict(X_test_lda)\n",
    "    accuracy = accuracy_score(y_test, y_pred)\n",
    "    accuracies.append(accuracy)\n",
    "    \n",
    "    print(f\"Accuracy: {accuracy:.4f}\")\n",
    "    print(\"Classification Report:\")\n",
    "    print(classification_report(y_test, y_pred, target_names=['Not Credible', 'Credible']))\n",
    "\n",
    "# Final average accuracy\n",
    "print(f\"\\n==== Cross-Validation Summary ====\")\n",
    "print(f\"Mean Accuracy: {np.mean(accuracies):.4f}\")\n",
    "print(f\"All Fold Accuracies: {['{:.4f}'.format(a) for a in accuracies]}\")\n"
   ]
  },
  {
   "cell_type": "markdown",
   "metadata": {},
   "source": [
    "with INPUT and OUTPUT of Credible or Not and Confidence Score"
   ]
  },
  {
   "cell_type": "code",
   "execution_count": 28,
   "metadata": {},
   "outputs": [
    {
     "name": "stdout",
     "output_type": "stream",
     "text": [
      "\n",
      "Prediction: Real News\n",
      "Confidence Score: 96.02%\n"
     ]
    }
   ],
   "source": [
    "from sklearn.calibration import CalibratedClassifierCV\n",
    "\n",
    "# Calibrate the SVM model for proper probability outputs\n",
    "svm_model = SVC(kernel='linear', C=1.0, class_weight='balanced', probability=True, random_state=42)\n",
    "svm_model.fit(X_train, y_train)  # Retrain with probability=True\n",
    "\n",
    "# Input and Prediction Function\n",
    "def predict_news(text):\n",
    "    if not text.strip():\n",
    "        print(\"Input is empty. Please enter valid news text.\")\n",
    "        return\n",
    "    \n",
    "    # Preprocess input\n",
    "    text_clean = preprocess_text(text)\n",
    "    token_count = len(text_clean.split())\n",
    "    \n",
    "    # Check for gibberish or too short input\n",
    "    if token_count < 5:\n",
    "        print(\"Input too short or unclear. Please provide a longer news article.\")\n",
    "        return\n",
    "    \n",
    "    # Transform with the same TF-IDF vectorizer\n",
    "    text_tfidf = tfidf_vectorizer.transform([text_clean])\n",
    "    \n",
    "    # Sentiment analysis\n",
    "    sentiment_score = get_sentiment_score(text_clean)\n",
    "    sentiment_score_array = np.array([[sentiment_score]])\n",
    "    \n",
    "    # Combine features\n",
    "    text_features = hstack([text_tfidf, sentiment_score_array])\n",
    "    \n",
    "    # Convert to dense\n",
    "    text_features_dense = text_features.toarray()\n",
    "    \n",
    "    # Apply LDA transformation\n",
    "    text_reduced = lda.transform(text_features_dense)\n",
    "    \n",
    "    # Prediction and Confidence\n",
    "    pred_prob = svm_model.predict_proba(text_reduced)[0]\n",
    "    pred = np.argmax(pred_prob)\n",
    "    confidence = pred_prob[pred] * 100\n",
    "    \n",
    "    label = 'Real News' if pred == 1 else 'Fake News'\n",
    "    \n",
    "    print(f\"\\nPrediction: {label}\")\n",
    "    print(f\"Confidence Score: {confidence:.2f}%\")\n",
    "\n",
    "# Example usage\n",
    "sample_text = input(\"Enter the news article text: \")\n",
    "predict_news(sample_text)\n"
   ]
  }
 ],
 "metadata": {
  "kernelspec": {
   "display_name": ".venv",
   "language": "python",
   "name": "python3"
  },
  "language_info": {
   "codemirror_mode": {
    "name": "ipython",
    "version": 3
   },
   "file_extension": ".py",
   "mimetype": "text/x-python",
   "name": "python",
   "nbconvert_exporter": "python",
   "pygments_lexer": "ipython3",
   "version": "3.13.2"
  }
 },
 "nbformat": 4,
 "nbformat_minor": 2
}
